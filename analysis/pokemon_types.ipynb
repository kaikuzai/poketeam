{
 "cells": [
  {
   "cell_type": "code",
   "execution_count": 12,
   "id": "4ecc2049",
   "metadata": {},
   "outputs": [],
   "source": [
    "import requests \n",
    "import pandas as pd \n",
    "\n",
    "url = 'https://pokeapi.co/api/v2/type'\n",
    "\n",
    "response = requests.get(url).json()['results']\n"
   ]
  },
  {
   "cell_type": "code",
   "execution_count": null,
   "id": "d266ccca",
   "metadata": {},
   "outputs": [],
   "source": []
  },
  {
   "cell_type": "code",
   "execution_count": 81,
   "id": "123a88fe",
   "metadata": {},
   "outputs": [
    {
     "name": "stdout",
     "output_type": "stream",
     "text": [
      "{'type_name': 'normal', 'double_damage_from': ['fighting'], 'double_damage_to': [], 'half_damage_from': [], 'half_damage_to': ['rock', 'steel'], 'no_damage_from': ['ghost'], 'no_damage_to': ['ghost'], 'pokemon_in_type': ['pidgey', 'pidgeotto', 'pidgeot', 'rattata', 'raticate', 'spearow', 'fearow', 'jigglypuff', 'wigglytuff', 'meowth', 'persian', 'farfetchd', 'doduo', 'dodrio', 'lickitung', 'chansey', 'kangaskhan', 'tauros', 'ditto', 'eevee', 'porygon', 'snorlax', 'sentret', 'furret', 'hoothoot', 'noctowl', 'igglybuff', 'aipom', 'girafarig', 'dunsparce', 'teddiursa', 'ursaring', 'porygon2', 'stantler', 'smeargle', 'miltank', 'blissey', 'zigzagoon', 'linoone', 'taillow', 'swellow', 'slakoth', 'vigoroth', 'slaking', 'whismur', 'loudred', 'exploud', 'azurill', 'skitty', 'delcatty', 'spinda', 'swablu', 'zangoose', 'castform', 'kecleon', 'starly', 'staravia', 'staraptor', 'bidoof', 'bibarel', 'ambipom', 'buneary', 'lopunny', 'glameow', 'purugly', 'happiny', 'chatot', 'munchlax', 'lickilicky', 'porygon-z', 'regigigas', 'arceus', 'patrat', 'watchog', 'lillipup', 'herdier', 'stoutland', 'pidove', 'tranquill', 'unfezant', 'audino', 'minccino', 'cinccino', 'deerling', 'sawsbuck', 'bouffalant', 'rufflet', 'braviary', 'meloetta-aria', 'bunnelby', 'diggersby', 'fletchling', 'litleo', 'pyroar', 'furfrou', 'helioptile', 'heliolisk', 'pikipek', 'trumbeak', 'toucannon', 'yungoos', 'gumshoos', 'stufful', 'bewear', 'oranguru', 'type-null', 'silvally', 'komala', 'drampa', 'skwovet', 'greedent', 'wooloo', 'dubwool', 'obstagoon', 'indeedee-male', 'wyrdeer', 'ursaluna', 'lechonk', 'oinkologne', 'tandemaus', 'maushold', 'smoliv', 'dolliv', 'arboliva', 'squawkabilly', 'shroodle', 'grafaiai', 'cyclizar', 'farigiraf', 'dudunsparce', 'terapagos', 'meloetta-pirouette', 'kangaskhan-mega', 'audino-mega', 'pidgeot-mega', 'lopunny-mega', 'rattata-alola', 'raticate-alola', 'raticate-totem-alola', 'gumshoos-totem', 'eevee-starter', 'zigzagoon-galar', 'linoone-galar', 'indeedee-female', 'meowth-gmax', 'eevee-gmax', 'snorlax-gmax', 'zorua-hisui', 'zoroark-hisui', 'oinkologne-female', 'dudunsparce-three-segment', 'maushold-family-of-three', 'squawkabilly-blue-plumage', 'squawkabilly-yellow-plumage', 'squawkabilly-white-plumage', 'ursaluna-bloodmoon', 'terapagos-terastal', 'terapagos-stellar']}\n",
      "{'type_name': 'fighting', 'double_damage_from': ['flying', 'psychic', 'fairy'], 'double_damage_to': ['normal', 'rock', 'steel', 'ice', 'dark'], 'half_damage_from': ['rock', 'bug', 'dark'], 'half_damage_to': ['flying', 'poison', 'bug', 'psychic', 'fairy'], 'no_damage_from': [], 'no_damage_to': ['ghost'], 'pokemon_in_type': ['mankey', 'primeape', 'poliwrath', 'machop', 'machoke', 'machamp', 'hitmonlee', 'hitmonchan', 'heracross', 'tyrogue', 'hitmontop', 'combusken', 'blaziken', 'breloom', 'makuhita', 'hariyama', 'meditite', 'medicham', 'monferno', 'infernape', 'riolu', 'lucario', 'croagunk', 'toxicroak', 'gallade', 'pignite', 'emboar', 'timburr', 'gurdurr', 'conkeldurr', 'throh', 'sawk', 'scraggy', 'scrafty', 'mienfoo', 'mienshao', 'cobalion', 'terrakion', 'virizion', 'keldeo-ordinary', 'chesnaught', 'pancham', 'pangoro', 'hawlucha', 'crabrawler', 'crabominable', 'stufful', 'bewear', 'passimian', 'hakamo-o', 'kommo-o', 'buzzwole', 'pheromosa', 'marshadow', 'clobbopus', 'grapploct', 'sirfetchd', 'falinks', 'zamazenta', 'kubfu', 'urshifu-single-strike', 'sneasler', 'quaquaval', 'pawmo', 'pawmot', 'flamigo', 'annihilape', 'great-tusk', 'slither-wing', 'iron-hands', 'iron-valiant', 'koraidon', 'okidogi', 'meloetta-pirouette', 'keldeo-resolute', 'mewtwo-mega-x', 'heracross-mega', 'blaziken-mega', 'medicham-mega', 'lucario-mega', 'gallade-mega', 'lopunny-mega', 'kommo-o-totem', 'farfetchd-galar', 'zapdos-galar', 'zamazenta-crowned', 'urshifu-rapid-strike', 'machamp-gmax', 'urshifu-single-strike-gmax', 'urshifu-rapid-strike-gmax', 'sneasel-hisui', 'lilligant-hisui', 'decidueye-hisui', 'tauros-paldea-combat-breed', 'tauros-paldea-blaze-breed', 'tauros-paldea-aqua-breed', 'koraidon-limited-build', 'koraidon-sprinting-build', 'koraidon-swimming-build', 'koraidon-gliding-build']}\n",
      "{'type_name': 'flying', 'double_damage_from': ['rock', 'electric', 'ice'], 'double_damage_to': ['fighting', 'bug', 'grass'], 'half_damage_from': ['fighting', 'bug', 'grass'], 'half_damage_to': ['rock', 'steel', 'electric'], 'no_damage_from': ['ground'], 'no_damage_to': [], 'pokemon_in_type': ['charizard', 'butterfree', 'pidgey', 'pidgeotto', 'pidgeot', 'spearow', 'fearow', 'zubat', 'golbat', 'farfetchd', 'doduo', 'dodrio', 'scyther', 'gyarados', 'aerodactyl', 'articuno', 'zapdos', 'moltres', 'dragonite', 'hoothoot', 'noctowl', 'ledyba', 'ledian', 'crobat', 'togetic', 'natu', 'xatu', 'hoppip', 'skiploom', 'jumpluff', 'yanma', 'murkrow', 'gligar', 'delibird', 'mantine', 'skarmory', 'lugia', 'ho-oh', 'beautifly', 'taillow', 'swellow', 'wingull', 'pelipper', 'masquerain', 'ninjask', 'swablu', 'altaria', 'tropius', 'salamence', 'rayquaza', 'starly', 'staravia', 'staraptor', 'mothim', 'combee', 'vespiquen', 'drifloon', 'drifblim', 'honchkrow', 'chatot', 'mantyke', 'togekiss', 'yanmega', 'gliscor', 'pidove', 'tranquill', 'unfezant', 'woobat', 'swoobat', 'sigilyph', 'archen', 'archeops', 'ducklett', 'swanna', 'emolga', 'rufflet', 'braviary', 'vullaby', 'mandibuzz', 'tornadus-incarnate', 'thundurus-incarnate', 'landorus-incarnate', 'fletchling', 'fletchinder', 'talonflame', 'vivillon', 'hawlucha', 'noibat', 'noivern', 'yveltal', 'rowlet', 'dartrix', 'pikipek', 'trumbeak', 'toucannon', 'oricorio-baile', 'minior-red-meteor', 'celesteela', 'rookidee', 'corvisquire', 'corviknight', 'cramorant', 'enamorus-incarnate', 'squawkabilly', 'wattrel', 'kilowattrel', 'bombirdier', 'flamigo', 'iron-jugulis', 'shaymin-sky', 'rotom-fan', 'tornadus-therian', 'thundurus-therian', 'landorus-therian', 'charizard-mega-y', 'pinsir-mega', 'aerodactyl-mega', 'pidgeot-mega', 'rayquaza-mega', 'salamence-mega', 'oricorio-pom-pom', 'oricorio-pau', 'oricorio-sensu', 'minior-orange-meteor', 'minior-yellow-meteor', 'minior-green-meteor', 'minior-blue-meteor', 'minior-indigo-meteor', 'minior-violet-meteor', 'minior-red', 'minior-orange', 'minior-yellow', 'minior-green', 'minior-blue', 'minior-indigo', 'minior-violet', 'articuno-galar', 'zapdos-galar', 'moltres-galar', 'cramorant-gulping', 'cramorant-gorging', 'charizard-gmax', 'butterfree-gmax', 'corviknight-gmax', 'braviary-hisui', 'enamorus-therian', 'squawkabilly-blue-plumage', 'squawkabilly-yellow-plumage', 'squawkabilly-white-plumage']}\n",
      "{'type_name': 'poison', 'double_damage_from': ['ground', 'psychic'], 'double_damage_to': ['grass', 'fairy'], 'half_damage_from': ['fighting', 'poison', 'bug', 'grass', 'fairy'], 'half_damage_to': ['poison', 'ground', 'rock', 'ghost'], 'no_damage_from': [], 'no_damage_to': ['steel'], 'pokemon_in_type': ['bulbasaur', 'ivysaur', 'venusaur', 'weedle', 'kakuna', 'beedrill', 'ekans', 'arbok', 'nidoran-f', 'nidorina', 'nidoqueen', 'nidoran-m', 'nidorino', 'nidoking', 'zubat', 'golbat', 'oddish', 'gloom', 'vileplume', 'venonat', 'venomoth', 'bellsprout', 'weepinbell', 'victreebel', 'tentacool', 'tentacruel', 'grimer', 'muk', 'gastly', 'haunter', 'gengar', 'koffing', 'weezing', 'spinarak', 'ariados', 'crobat', 'qwilfish', 'dustox', 'roselia', 'gulpin', 'swalot', 'seviper', 'budew', 'roserade', 'stunky', 'skuntank', 'skorupi', 'drapion', 'croagunk', 'toxicroak', 'venipede', 'whirlipede', 'scolipede', 'trubbish', 'garbodor', 'foongus', 'amoonguss', 'skrelp', 'dragalge', 'mareanie', 'toxapex', 'salandit', 'salazzle', 'nihilego', 'poipole', 'naganadel', 'toxel', 'toxtricity-amped', 'eternatus', 'sneasler', 'overqwil', 'shroodle', 'grafaiai', 'varoom', 'revavroom', 'glimmet', 'glimmora', 'clodsire', 'iron-moth', 'okidogi', 'munkidori', 'fezandipiti', 'pecharunt', 'venusaur-mega', 'gengar-mega', 'beedrill-mega', 'grimer-alola', 'muk-alola', 'salazzle-totem', 'slowbro-galar', 'weezing-galar', 'slowking-galar', 'toxtricity-low-key', 'eternatus-eternamax', 'venusaur-gmax', 'gengar-gmax', 'garbodor-gmax', 'toxtricity-amped-gmax', 'toxtricity-low-key-gmax', 'qwilfish-hisui', 'sneasel-hisui', 'wooper-paldea']}\n",
      "{'type_name': 'ground', 'double_damage_from': ['water', 'grass', 'ice'], 'double_damage_to': ['poison', 'rock', 'steel', 'fire', 'electric'], 'half_damage_from': ['poison', 'rock'], 'half_damage_to': ['bug', 'grass'], 'no_damage_from': ['electric'], 'no_damage_to': ['flying'], 'pokemon_in_type': ['sandshrew', 'sandslash', 'nidoqueen', 'nidoking', 'diglett', 'dugtrio', 'geodude', 'graveler', 'golem', 'onix', 'cubone', 'marowak', 'rhyhorn', 'rhydon', 'wooper', 'quagsire', 'gligar', 'steelix', 'swinub', 'piloswine', 'phanpy', 'donphan', 'larvitar', 'pupitar', 'marshtomp', 'swampert', 'nincada', 'numel', 'camerupt', 'trapinch', 'vibrava', 'flygon', 'barboach', 'whiscash', 'baltoy', 'claydol', 'groudon', 'torterra', 'gastrodon', 'gible', 'gabite', 'garchomp', 'hippopotas', 'hippowdon', 'rhyperior', 'gliscor', 'mamoswine', 'drilbur', 'excadrill', 'palpitoad', 'seismitoad', 'sandile', 'krokorok', 'krookodile', 'stunfisk', 'golett', 'golurk', 'landorus-incarnate', 'diggersby', 'zygarde-50', 'mudbray', 'mudsdale', 'sandygast', 'palossand', 'silicobra', 'sandaconda', 'runerigus', 'ursaluna', 'toedscool', 'toedscruel', 'clodsire', 'great-tusk', 'sandy-shocks', 'iron-treads', 'ting-lu', 'wormadam-sandy', 'landorus-therian', 'garchomp-mega', 'swampert-mega', 'steelix-mega', 'groudon-primal', 'camerupt-mega', 'diglett-alola', 'dugtrio-alola', 'zygarde-10-power-construct', 'zygarde-50-power-construct', 'zygarde-complete', 'yamask-galar', 'stunfisk-galar', 'zygarde-10', 'sandaconda-gmax', 'wooper-paldea', 'ursaluna-bloodmoon']}\n",
      "{'type_name': 'rock', 'double_damage_from': ['fighting', 'ground', 'steel', 'water', 'grass'], 'double_damage_to': ['flying', 'bug', 'fire', 'ice'], 'half_damage_from': ['normal', 'flying', 'poison', 'fire'], 'half_damage_to': ['fighting', 'ground', 'steel'], 'no_damage_from': [], 'no_damage_to': [], 'pokemon_in_type': ['geodude', 'graveler', 'golem', 'onix', 'rhyhorn', 'rhydon', 'omanyte', 'omastar', 'kabuto', 'kabutops', 'aerodactyl', 'sudowoodo', 'shuckle', 'magcargo', 'corsola', 'larvitar', 'pupitar', 'tyranitar', 'nosepass', 'aron', 'lairon', 'aggron', 'lunatone', 'solrock', 'lileep', 'cradily', 'anorith', 'armaldo', 'relicanth', 'regirock', 'cranidos', 'rampardos', 'shieldon', 'bastiodon', 'bonsly', 'rhyperior', 'probopass', 'roggenrola', 'boldore', 'gigalith', 'dwebble', 'crustle', 'tirtouga', 'carracosta', 'archen', 'archeops', 'terrakion', 'binacle', 'barbaracle', 'tyrunt', 'tyrantrum', 'amaura', 'aurorus', 'carbink', 'diancie', 'rockruff', 'lycanroc-midday', 'minior-red-meteor', 'nihilego', 'stakataka', 'drednaw', 'rolycoly', 'carkol', 'coalossal', 'stonjourner', 'kleavor', 'nacli', 'naclstack', 'garganacl', 'klawf', 'glimmet', 'glimmora', 'iron-thorns', 'iron-boulder', 'aerodactyl-mega', 'tyranitar-mega', 'diancie-mega', 'geodude-alola', 'graveler-alola', 'golem-alola', 'lycanroc-midnight', 'minior-orange-meteor', 'minior-yellow-meteor', 'minior-green-meteor', 'minior-blue-meteor', 'minior-indigo-meteor', 'minior-violet-meteor', 'minior-red', 'minior-orange', 'minior-yellow', 'minior-green', 'minior-blue', 'minior-indigo', 'minior-violet', 'rockruff-own-tempo', 'lycanroc-dusk', 'drednaw-gmax', 'coalossal-gmax', 'growlithe-hisui', 'arcanine-hisui', 'avalugg-hisui', 'ogerpon-cornerstone-mask']}\n",
      "{'type_name': 'bug', 'double_damage_from': ['flying', 'rock', 'fire'], 'double_damage_to': ['grass', 'psychic', 'dark'], 'half_damage_from': ['fighting', 'ground', 'grass'], 'half_damage_to': ['fighting', 'flying', 'poison', 'ghost', 'steel', 'fire', 'fairy'], 'no_damage_from': [], 'no_damage_to': [], 'pokemon_in_type': ['caterpie', 'metapod', 'butterfree', 'weedle', 'kakuna', 'beedrill', 'paras', 'parasect', 'venonat', 'venomoth', 'scyther', 'pinsir', 'ledyba', 'ledian', 'spinarak', 'ariados', 'yanma', 'pineco', 'forretress', 'scizor', 'shuckle', 'heracross', 'wurmple', 'silcoon', 'beautifly', 'cascoon', 'dustox', 'surskit', 'masquerain', 'nincada', 'ninjask', 'shedinja', 'volbeat', 'illumise', 'anorith', 'armaldo', 'kricketot', 'kricketune', 'burmy', 'wormadam-plant', 'mothim', 'combee', 'vespiquen', 'skorupi', 'yanmega', 'sewaddle', 'swadloon', 'leavanny', 'venipede', 'whirlipede', 'scolipede', 'dwebble', 'crustle', 'karrablast', 'escavalier', 'joltik', 'galvantula', 'shelmet', 'accelgor', 'durant', 'larvesta', 'volcarona', 'genesect', 'scatterbug', 'spewpa', 'vivillon', 'grubbin', 'charjabug', 'vikavolt', 'cutiefly', 'ribombee', 'dewpider', 'araquanid', 'wimpod', 'golisopod', 'buzzwole', 'pheromosa', 'blipbug', 'dottler', 'orbeetle', 'sizzlipede', 'centiskorch', 'snom', 'frosmoth', 'kleavor', 'tarountula', 'spidops', 'nymble', 'lokix', 'rellor', 'rabsca', 'slither-wing', 'wormadam-sandy', 'wormadam-trash', 'pinsir-mega', 'scizor-mega', 'heracross-mega', 'beedrill-mega', 'vikavolt-totem', 'ribombee-totem', 'araquanid-totem', 'butterfree-gmax', 'orbeetle-gmax', 'centiskorch-gmax']}\n"
     ]
    },
    {
     "name": "stdout",
     "output_type": "stream",
     "text": [
      "{'type_name': 'ghost', 'double_damage_from': ['ghost', 'dark'], 'double_damage_to': ['ghost', 'psychic'], 'half_damage_from': ['poison', 'bug'], 'half_damage_to': ['dark'], 'no_damage_from': ['normal', 'fighting'], 'no_damage_to': ['normal'], 'pokemon_in_type': ['gastly', 'haunter', 'gengar', 'misdreavus', 'shedinja', 'sableye', 'shuppet', 'banette', 'duskull', 'dusclops', 'drifloon', 'drifblim', 'mismagius', 'spiritomb', 'dusknoir', 'froslass', 'rotom', 'giratina-altered', 'yamask', 'cofagrigus', 'frillish', 'jellicent', 'litwick', 'lampent', 'chandelure', 'golett', 'golurk', 'honedge', 'doublade', 'aegislash-shield', 'phantump', 'trevenant', 'pumpkaboo-average', 'gourgeist-average', 'hoopa', 'decidueye', 'sandygast', 'palossand', 'mimikyu-disguised', 'dhelmise', 'lunala', 'marshadow', 'blacephalon', 'sinistea', 'polteageist', 'cursola', 'runerigus', 'dreepy', 'drakloak', 'dragapult', 'spectrier', 'basculegion-male', 'skeledirge', 'ceruledge', 'bramblin', 'brambleghast', 'greavard', 'houndstone', 'annihilape', 'flutter-mane', 'gimmighoul', 'gholdengo', 'poltchageist', 'sinistcha', 'pecharunt', 'giratina-origin', 'aegislash-blade', 'pumpkaboo-small', 'pumpkaboo-large', 'pumpkaboo-super', 'gourgeist-small', 'gourgeist-large', 'gourgeist-super', 'gengar-mega', 'banette-mega', 'sableye-mega', 'marowak-alola', 'oricorio-sensu', 'mimikyu-busted', 'mimikyu-totem-disguised', 'mimikyu-totem-busted', 'marowak-totem', 'necrozma-dawn', 'corsola-galar', 'yamask-galar', 'calyrex-shadow', 'gengar-gmax', 'typhlosion-hisui', 'zorua-hisui', 'zoroark-hisui', 'basculegion-female', 'gimmighoul-roaming']}\n",
      "{'type_name': 'steel', 'double_damage_from': ['fighting', 'ground', 'fire'], 'double_damage_to': ['rock', 'ice', 'fairy'], 'half_damage_from': ['normal', 'flying', 'rock', 'bug', 'steel', 'grass', 'psychic', 'ice', 'dragon', 'fairy'], 'half_damage_to': ['steel', 'fire', 'water', 'electric'], 'no_damage_from': ['poison'], 'no_damage_to': [], 'pokemon_in_type': ['magnemite', 'magneton', 'forretress', 'steelix', 'scizor', 'skarmory', 'mawile', 'aron', 'lairon', 'aggron', 'beldum', 'metang', 'metagross', 'registeel', 'jirachi', 'empoleon', 'shieldon', 'bastiodon', 'bronzor', 'bronzong', 'lucario', 'magnezone', 'probopass', 'dialga', 'heatran', 'excadrill', 'escavalier', 'ferroseed', 'ferrothorn', 'klink', 'klang', 'klinklang', 'pawniard', 'bisharp', 'durant', 'cobalion', 'genesect', 'honedge', 'doublade', 'aegislash-shield', 'klefki', 'togedemaru', 'solgaleo', 'celesteela', 'kartana', 'magearna', 'stakataka', 'meltan', 'melmetal', 'corviknight', 'perrserker', 'cufant', 'copperajah', 'duraludon', 'tinkatink', 'tinkatuff', 'tinkaton', 'varoom', 'revavroom', 'orthworm', 'kingambit', 'iron-treads', 'gholdengo', 'archaludon', 'iron-crown', 'wormadam-trash', 'aegislash-blade', 'scizor-mega', 'mawile-mega', 'aggron-mega', 'lucario-mega', 'steelix-mega', 'metagross-mega', 'sandshrew-alola', 'sandslash-alola', 'diglett-alola', 'dugtrio-alola', 'magearna-original', 'togedemaru-totem', 'necrozma-dusk', 'meowth-galar', 'stunfisk-galar', 'zacian-crowned', 'zamazenta-crowned', 'melmetal-gmax', 'corviknight-gmax', 'copperajah-gmax', 'duraludon-gmax', 'sliggoo-hisui', 'goodra-hisui', 'dialga-origin']}\n",
      "{'type_name': 'fire', 'double_damage_from': ['ground', 'rock', 'water'], 'double_damage_to': ['bug', 'steel', 'grass', 'ice'], 'half_damage_from': ['bug', 'steel', 'fire', 'grass', 'ice', 'fairy'], 'half_damage_to': ['rock', 'fire', 'water', 'dragon'], 'no_damage_from': [], 'no_damage_to': [], 'pokemon_in_type': ['charmander', 'charmeleon', 'charizard', 'vulpix', 'ninetales', 'growlithe', 'arcanine', 'ponyta', 'rapidash', 'magmar', 'flareon', 'moltres', 'cyndaquil', 'quilava', 'typhlosion', 'slugma', 'magcargo', 'houndour', 'houndoom', 'magby', 'entei', 'ho-oh', 'torchic', 'combusken', 'blaziken', 'numel', 'camerupt', 'torkoal', 'chimchar', 'monferno', 'infernape', 'magmortar', 'heatran', 'victini', 'tepig', 'pignite', 'emboar', 'pansear', 'simisear', 'darumaka', 'darmanitan-standard', 'litwick', 'lampent', 'chandelure', 'heatmor', 'larvesta', 'volcarona', 'reshiram', 'fennekin', 'braixen', 'delphox', 'fletchinder', 'talonflame', 'litleo', 'pyroar', 'volcanion', 'litten', 'torracat', 'incineroar', 'oricorio-baile', 'salandit', 'salazzle', 'turtonator', 'blacephalon', 'scorbunny', 'raboot', 'cinderace', 'carkol', 'coalossal', 'sizzlipede', 'centiskorch', 'fuecoco', 'crocalor', 'skeledirge', 'charcadet', 'armarouge', 'ceruledge', 'scovillain', 'iron-moth', 'chi-yu', 'gouging-fire', 'rotom-heat', 'castform-sunny', 'darmanitan-zen', 'charizard-mega-x', 'charizard-mega-y', 'houndoom-mega', 'blaziken-mega', 'groudon-primal', 'camerupt-mega', 'marowak-alola', 'salazzle-totem', 'marowak-totem', 'darmanitan-galar-zen', 'charizard-gmax', 'cinderace-gmax', 'coalossal-gmax', 'centiskorch-gmax', 'growlithe-hisui', 'arcanine-hisui', 'typhlosion-hisui', 'tauros-paldea-blaze-breed', 'ogerpon-hearthflame-mask']}\n",
      "{'type_name': 'water', 'double_damage_from': ['grass', 'electric'], 'double_damage_to': ['ground', 'rock', 'fire'], 'half_damage_from': ['steel', 'fire', 'water', 'ice'], 'half_damage_to': ['water', 'grass', 'dragon'], 'no_damage_from': [], 'no_damage_to': [], 'pokemon_in_type': ['squirtle', 'wartortle', 'blastoise', 'psyduck', 'golduck', 'poliwag', 'poliwhirl', 'poliwrath', 'tentacool', 'tentacruel', 'slowpoke', 'slowbro', 'seel', 'dewgong', 'shellder', 'cloyster', 'krabby', 'kingler', 'horsea', 'seadra', 'goldeen', 'seaking', 'staryu', 'starmie', 'magikarp', 'gyarados', 'lapras', 'vaporeon', 'omanyte', 'omastar', 'kabuto', 'kabutops', 'totodile', 'croconaw', 'feraligatr', 'chinchou', 'lanturn', 'marill', 'azumarill', 'politoed', 'wooper', 'quagsire', 'slowking', 'qwilfish', 'corsola', 'remoraid', 'octillery', 'mantine', 'kingdra', 'suicune', 'mudkip', 'marshtomp', 'swampert', 'lotad', 'lombre', 'ludicolo', 'wingull', 'pelipper', 'surskit', 'carvanha', 'sharpedo', 'wailmer', 'wailord', 'barboach', 'whiscash', 'corphish', 'crawdaunt', 'feebas', 'milotic', 'spheal', 'sealeo', 'walrein', 'clamperl', 'huntail', 'gorebyss', 'relicanth', 'luvdisc', 'kyogre', 'piplup', 'prinplup', 'empoleon', 'bibarel', 'buizel', 'floatzel', 'shellos', 'gastrodon', 'finneon', 'lumineon', 'mantyke', 'palkia', 'phione', 'manaphy', 'oshawott', 'dewott', 'samurott', 'panpour', 'simipour', 'tympole', 'palpitoad', 'seismitoad', 'basculin-red-striped', 'tirtouga', 'carracosta', 'ducklett', 'swanna', 'frillish', 'jellicent', 'alomomola', 'keldeo-ordinary', 'froakie', 'frogadier', 'greninja', 'binacle', 'barbaracle', 'skrelp', 'clauncher', 'clawitzer', 'volcanion', 'popplio', 'brionne', 'primarina', 'wishiwashi-solo', 'mareanie', 'toxapex', 'dewpider', 'araquanid', 'wimpod', 'golisopod', 'pyukumuku', 'bruxish', 'tapu-fini', 'sobble', 'drizzile', 'inteleon', 'chewtle', 'drednaw', 'cramorant', 'arrokuda', 'barraskewda', 'dracovish', 'arctovish', 'basculegion-male', 'quaxly', 'quaxwell', 'quaquaval', 'wiglett', 'wugtrio', 'finizen', 'palafin', 'veluza', 'dondozo', 'tatsugiri', 'iron-bundle', 'walking-wake', 'rotom-wash', 'castform-rainy', 'basculin-blue-striped', 'keldeo-resolute', 'blastoise-mega', 'gyarados-mega', 'swampert-mega', 'sharpedo-mega', 'slowbro-mega', 'kyogre-primal', 'greninja-battle-bond', 'greninja-ash', 'wishiwashi-school', 'araquanid-totem', 'cramorant-gulping', 'cramorant-gorging', 'urshifu-rapid-strike', 'blastoise-gmax', 'kingler-gmax', 'lapras-gmax', 'inteleon-gmax', 'drednaw-gmax', 'urshifu-rapid-strike-gmax', 'samurott-hisui', 'palkia-origin', 'basculin-white-striped', 'basculegion-female', 'tauros-paldea-aqua-breed', 'palafin-hero', 'tatsugiri-droopy', 'tatsugiri-stretchy', 'ogerpon-wellspring-mask']}\n",
      "{'type_name': 'grass', 'double_damage_from': ['flying', 'poison', 'bug', 'fire', 'ice'], 'double_damage_to': ['ground', 'rock', 'water'], 'half_damage_from': ['ground', 'water', 'grass', 'electric'], 'half_damage_to': ['flying', 'poison', 'bug', 'steel', 'fire', 'grass', 'dragon'], 'no_damage_from': [], 'no_damage_to': [], 'pokemon_in_type': ['bulbasaur', 'ivysaur', 'venusaur', 'oddish', 'gloom', 'vileplume', 'paras', 'parasect', 'bellsprout', 'weepinbell', 'victreebel', 'exeggcute', 'exeggutor', 'tangela', 'chikorita', 'bayleef', 'meganium', 'bellossom', 'hoppip', 'skiploom', 'jumpluff', 'sunkern', 'sunflora', 'celebi', 'treecko', 'grovyle', 'sceptile', 'lotad', 'lombre', 'ludicolo', 'seedot', 'nuzleaf', 'shiftry', 'shroomish', 'breloom', 'roselia', 'cacnea', 'cacturne', 'lileep', 'cradily', 'tropius', 'turtwig', 'grotle', 'torterra', 'budew', 'roserade', 'wormadam-plant', 'cherubi', 'cherrim', 'carnivine', 'snover', 'abomasnow', 'tangrowth', 'leafeon', 'shaymin-land', 'snivy', 'servine', 'serperior', 'pansage', 'simisage', 'sewaddle', 'swadloon', 'leavanny', 'cottonee', 'whimsicott', 'petilil', 'lilligant', 'maractus', 'deerling', 'sawsbuck', 'foongus', 'amoonguss', 'ferroseed', 'ferrothorn', 'virizion', 'chespin', 'quilladin', 'chesnaught', 'skiddo', 'gogoat', 'phantump', 'trevenant', 'pumpkaboo-average', 'gourgeist-average', 'rowlet', 'dartrix', 'decidueye', 'fomantis', 'lurantis', 'morelull', 'shiinotic', 'bounsweet', 'steenee', 'tsareena', 'dhelmise', 'tapu-bulu', 'kartana', 'grookey', 'thwackey', 'rillaboom', 'gossifleur', 'eldegoss', 'applin', 'flapple', 'appletun', 'zarude', 'calyrex', 'sprigatito', 'floragato', 'meowscarada', 'smoliv', 'dolliv', 'arboliva', 'bramblin', 'brambleghast', 'toedscool', 'toedscruel', 'capsakid', 'scovillain', 'brute-bonnet', 'wo-chien', 'iron-leaves', 'dipplin', 'poltchageist', 'sinistcha', 'ogerpon', 'hydrapple', 'shaymin-sky', 'rotom-mow', 'pumpkaboo-small', 'pumpkaboo-large', 'pumpkaboo-super', 'gourgeist-small', 'gourgeist-large', 'gourgeist-super', 'venusaur-mega', 'abomasnow-mega', 'sceptile-mega', 'exeggutor-alola', 'lurantis-totem', 'zarude-dada', 'venusaur-gmax', 'rillaboom-gmax', 'flapple-gmax', 'appletun-gmax', 'voltorb-hisui', 'electrode-hisui', 'lilligant-hisui', 'decidueye-hisui', 'ogerpon-wellspring-mask', 'ogerpon-hearthflame-mask', 'ogerpon-cornerstone-mask']}\n",
      "{'type_name': 'electric', 'double_damage_from': ['ground'], 'double_damage_to': ['flying', 'water'], 'half_damage_from': ['flying', 'steel', 'electric'], 'half_damage_to': ['grass', 'electric', 'dragon'], 'no_damage_from': [], 'no_damage_to': ['ground'], 'pokemon_in_type': ['pikachu', 'raichu', 'magnemite', 'magneton', 'voltorb', 'electrode', 'electabuzz', 'jolteon', 'zapdos', 'chinchou', 'lanturn', 'pichu', 'mareep', 'flaaffy', 'ampharos', 'elekid', 'raikou', 'electrike', 'manectric', 'plusle', 'minun', 'shinx', 'luxio', 'luxray', 'pachirisu', 'magnezone', 'electivire', 'rotom', 'blitzle', 'zebstrika', 'emolga', 'joltik', 'galvantula', 'tynamo', 'eelektrik', 'eelektross', 'stunfisk', 'thundurus-incarnate', 'zekrom', 'helioptile', 'heliolisk', 'dedenne', 'charjabug', 'vikavolt', 'togedemaru', 'tapu-koko', 'xurkitree', 'zeraora', 'yamper', 'boltund', 'toxel', 'toxtricity-amped', 'pincurchin', 'morpeko-full-belly', 'dracozolt', 'arctozolt', 'regieleki', 'pawmi', 'pawmo', 'pawmot', 'tadbulb', 'bellibolt', 'wattrel', 'kilowattrel', 'sandy-shocks', 'iron-hands', 'iron-thorns', 'miraidon', 'raging-bolt', 'rotom-heat', 'rotom-wash', 'rotom-frost', 'rotom-fan', 'rotom-mow', 'thundurus-therian', 'ampharos-mega', 'manectric-mega', 'pikachu-rock-star', 'pikachu-belle', 'pikachu-pop-star', 'pikachu-phd', 'pikachu-libre', 'pikachu-cosplay', 'pikachu-original-cap', 'pikachu-hoenn-cap', 'pikachu-sinnoh-cap', 'pikachu-unova-cap', 'pikachu-kalos-cap', 'pikachu-alola-cap', 'raichu-alola', 'geodude-alola', 'graveler-alola', 'golem-alola', 'vikavolt-totem', 'oricorio-pom-pom', 'pikachu-partner-cap', 'togedemaru-totem', 'pikachu-starter', 'pikachu-world-cap', 'toxtricity-low-key', 'morpeko-hangry', 'pikachu-gmax', 'toxtricity-amped-gmax', 'toxtricity-low-key-gmax', 'voltorb-hisui', 'electrode-hisui', 'miraidon-low-power-mode', 'miraidon-drive-mode', 'miraidon-aquatic-mode', 'miraidon-glide-mode']}\n",
      "{'type_name': 'psychic', 'double_damage_from': ['bug', 'ghost', 'dark'], 'double_damage_to': ['fighting', 'poison'], 'half_damage_from': ['fighting', 'psychic'], 'half_damage_to': ['steel', 'psychic'], 'no_damage_from': [], 'no_damage_to': ['dark'], 'pokemon_in_type': ['abra', 'kadabra', 'alakazam', 'slowpoke', 'slowbro', 'drowzee', 'hypno', 'exeggcute', 'exeggutor', 'starmie', 'mr-mime', 'jynx', 'mewtwo', 'mew', 'natu', 'xatu', 'espeon', 'slowking', 'unown', 'wobbuffet', 'girafarig', 'smoochum', 'lugia', 'celebi', 'ralts', 'kirlia', 'gardevoir', 'meditite', 'medicham', 'spoink', 'grumpig', 'lunatone', 'solrock', 'baltoy', 'claydol', 'chimecho', 'wynaut', 'beldum', 'metang', 'metagross', 'latias', 'latios', 'jirachi', 'deoxys-normal', 'chingling', 'bronzor', 'bronzong', 'mime-jr', 'gallade', 'uxie', 'mesprit', 'azelf', 'cresselia', 'victini', 'munna', 'musharna', 'woobat', 'swoobat', 'sigilyph', 'gothita', 'gothorita', 'gothitelle', 'solosis', 'duosion', 'reuniclus', 'elgyem', 'beheeyem', 'meloetta-aria', 'delphox', 'espurr', 'meowstic-male', 'inkay', 'malamar', 'hoopa', 'oranguru', 'bruxish', 'tapu-lele', 'cosmog', 'cosmoem', 'solgaleo', 'lunala', 'necrozma', 'dottler', 'orbeetle', 'hatenna', 'hattrem', 'hatterene', 'mr-rime', 'indeedee-male', 'calyrex', 'wyrdeer', 'armarouge', 'rabsca', 'flittle', 'espathra', 'veluza', 'farigiraf', 'scream-tail', 'iron-leaves', 'munkidori', 'iron-boulder', 'iron-crown', 'deoxys-attack', 'deoxys-defense', 'deoxys-speed', 'darmanitan-zen', 'meowstic-female', 'alakazam-mega', 'mewtwo-mega-x', 'mewtwo-mega-y', 'gardevoir-mega', 'medicham-mega', 'latias-mega', 'latios-mega', 'gallade-mega', 'slowbro-mega', 'metagross-mega', 'hoopa-unbound', 'raichu-alola', 'oricorio-pau', 'necrozma-dusk', 'necrozma-dawn', 'necrozma-ultra', 'ponyta-galar', 'rapidash-galar', 'slowpoke-galar', 'slowbro-galar', 'mr-mime-galar', 'articuno-galar', 'slowking-galar', 'indeedee-female', 'calyrex-ice', 'calyrex-shadow', 'orbeetle-gmax', 'hatterene-gmax', 'braviary-hisui']}\n"
     ]
    },
    {
     "name": "stdout",
     "output_type": "stream",
     "text": [
      "{'type_name': 'ice', 'double_damage_from': ['fighting', 'rock', 'steel', 'fire'], 'double_damage_to': ['flying', 'ground', 'grass', 'dragon'], 'half_damage_from': ['ice'], 'half_damage_to': ['steel', 'fire', 'water', 'ice'], 'no_damage_from': [], 'no_damage_to': [], 'pokemon_in_type': ['dewgong', 'cloyster', 'jynx', 'lapras', 'articuno', 'sneasel', 'swinub', 'piloswine', 'delibird', 'smoochum', 'snorunt', 'glalie', 'spheal', 'sealeo', 'walrein', 'regice', 'snover', 'abomasnow', 'weavile', 'glaceon', 'mamoswine', 'froslass', 'vanillite', 'vanillish', 'vanilluxe', 'cubchoo', 'beartic', 'cryogonal', 'kyurem', 'amaura', 'aurorus', 'bergmite', 'avalugg', 'crabominable', 'mr-rime', 'snom', 'frosmoth', 'eiscue-ice', 'arctozolt', 'arctovish', 'glastrier', 'cetoddle', 'cetitan', 'iron-bundle', 'frigibax', 'arctibax', 'baxcalibur', 'chien-pao', 'rotom-frost', 'castform-snowy', 'kyurem-black', 'kyurem-white', 'abomasnow-mega', 'glalie-mega', 'sandshrew-alola', 'sandslash-alola', 'vulpix-alola', 'ninetales-alola', 'mr-mime-galar', 'darumaka-galar', 'darmanitan-galar-standard', 'darmanitan-galar-zen', 'eiscue-noice', 'calyrex-ice', 'lapras-gmax', 'avalugg-hisui']}\n",
      "{'type_name': 'dragon', 'double_damage_from': ['ice', 'dragon', 'fairy'], 'double_damage_to': ['dragon'], 'half_damage_from': ['fire', 'water', 'grass', 'electric'], 'half_damage_to': ['steel'], 'no_damage_from': [], 'no_damage_to': ['fairy'], 'pokemon_in_type': ['dratini', 'dragonair', 'dragonite', 'kingdra', 'vibrava', 'flygon', 'altaria', 'bagon', 'shelgon', 'salamence', 'latias', 'latios', 'rayquaza', 'gible', 'gabite', 'garchomp', 'dialga', 'palkia', 'giratina-altered', 'axew', 'fraxure', 'haxorus', 'druddigon', 'deino', 'zweilous', 'hydreigon', 'reshiram', 'zekrom', 'kyurem', 'dragalge', 'tyrunt', 'tyrantrum', 'goomy', 'sliggoo', 'goodra', 'noibat', 'noivern', 'zygarde-50', 'turtonator', 'drampa', 'jangmo-o', 'hakamo-o', 'kommo-o', 'guzzlord', 'naganadel', 'applin', 'flapple', 'appletun', 'dracozolt', 'dracovish', 'duraludon', 'dreepy', 'drakloak', 'dragapult', 'eternatus', 'regidrago', 'cyclizar', 'tatsugiri', 'frigibax', 'arctibax', 'baxcalibur', 'roaring-moon', 'koraidon', 'miraidon', 'walking-wake', 'dipplin', 'archaludon', 'hydrapple', 'gouging-fire', 'raging-bolt', 'giratina-origin', 'kyurem-black', 'kyurem-white', 'charizard-mega-x', 'ampharos-mega', 'garchomp-mega', 'latias-mega', 'latios-mega', 'sceptile-mega', 'altaria-mega', 'rayquaza-mega', 'salamence-mega', 'exeggutor-alola', 'zygarde-10-power-construct', 'zygarde-50-power-construct', 'zygarde-complete', 'kommo-o-totem', 'necrozma-ultra', 'zygarde-10', 'eternatus-eternamax', 'flapple-gmax', 'appletun-gmax', 'duraludon-gmax', 'sliggoo-hisui', 'goodra-hisui', 'dialga-origin', 'palkia-origin', 'tatsugiri-droopy', 'tatsugiri-stretchy', 'koraidon-limited-build', 'koraidon-sprinting-build', 'koraidon-swimming-build', 'koraidon-gliding-build', 'miraidon-low-power-mode', 'miraidon-drive-mode', 'miraidon-aquatic-mode', 'miraidon-glide-mode']}\n",
      "{'type_name': 'dark', 'double_damage_from': ['fighting', 'bug', 'fairy'], 'double_damage_to': ['ghost', 'psychic'], 'half_damage_from': ['ghost', 'dark'], 'half_damage_to': ['fighting', 'dark', 'fairy'], 'no_damage_from': ['psychic'], 'no_damage_to': [], 'pokemon_in_type': ['umbreon', 'murkrow', 'sneasel', 'houndour', 'houndoom', 'tyranitar', 'poochyena', 'mightyena', 'nuzleaf', 'shiftry', 'sableye', 'carvanha', 'sharpedo', 'cacturne', 'crawdaunt', 'absol', 'honchkrow', 'stunky', 'skuntank', 'spiritomb', 'drapion', 'weavile', 'darkrai', 'purrloin', 'liepard', 'sandile', 'krokorok', 'krookodile', 'scraggy', 'scrafty', 'zorua', 'zoroark', 'pawniard', 'bisharp', 'vullaby', 'mandibuzz', 'deino', 'zweilous', 'hydreigon', 'greninja', 'pangoro', 'inkay', 'malamar', 'yveltal', 'incineroar', 'guzzlord', 'nickit', 'thievul', 'impidimp', 'morgrem', 'grimmsnarl', 'obstagoon', 'morpeko-full-belly', 'urshifu-single-strike', 'zarude', 'overqwil', 'meowscarada', 'lokix', 'maschiff', 'mabosstiff', 'bombirdier', 'kingambit', 'brute-bonnet', 'iron-jugulis', 'wo-chien', 'chien-pao', 'ting-lu', 'chi-yu', 'roaring-moon', 'gyarados-mega', 'houndoom-mega', 'tyranitar-mega', 'absol-mega', 'sableye-mega', 'sharpedo-mega', 'hoopa-unbound', 'rattata-alola', 'raticate-alola', 'raticate-totem-alola', 'meowth-alola', 'persian-alola', 'grimer-alola', 'muk-alola', 'greninja-battle-bond', 'greninja-ash', 'moltres-galar', 'zigzagoon-galar', 'linoone-galar', 'morpeko-hangry', 'zarude-dada', 'grimmsnarl-gmax', 'urshifu-single-strike-gmax', 'qwilfish-hisui', 'samurott-hisui']}\n",
      "{'type_name': 'fairy', 'double_damage_from': ['poison', 'steel'], 'double_damage_to': ['fighting', 'dragon', 'dark'], 'half_damage_from': ['fighting', 'bug', 'dark'], 'half_damage_to': ['poison', 'steel', 'fire'], 'no_damage_from': ['dragon'], 'no_damage_to': [], 'pokemon_in_type': ['clefairy', 'clefable', 'jigglypuff', 'wigglytuff', 'mr-mime', 'cleffa', 'igglybuff', 'togepi', 'togetic', 'marill', 'azumarill', 'snubbull', 'granbull', 'ralts', 'kirlia', 'gardevoir', 'azurill', 'mawile', 'mime-jr', 'togekiss', 'cottonee', 'whimsicott', 'flabebe', 'floette', 'florges', 'spritzee', 'aromatisse', 'swirlix', 'slurpuff', 'sylveon', 'dedenne', 'carbink', 'klefki', 'xerneas', 'diancie', 'primarina', 'cutiefly', 'ribombee', 'morelull', 'shiinotic', 'comfey', 'mimikyu-disguised', 'tapu-koko', 'tapu-lele', 'tapu-bulu', 'tapu-fini', 'magearna', 'hatterene', 'impidimp', 'morgrem', 'grimmsnarl', 'milcery', 'alcremie', 'zacian', 'enamorus-incarnate', 'fidough', 'dachsbun', 'tinkatink', 'tinkatuff', 'tinkaton', 'scream-tail', 'flutter-mane', 'iron-valiant', 'fezandipiti', 'gardevoir-mega', 'mawile-mega', 'floette-eternal', 'altaria-mega', 'audino-mega', 'diancie-mega', 'ninetales-alola', 'mimikyu-busted', 'mimikyu-totem-disguised', 'mimikyu-totem-busted', 'magearna-original', 'ribombee-totem', 'rapidash-galar', 'weezing-galar', 'zacian-crowned', 'hatterene-gmax', 'grimmsnarl-gmax', 'alcremie-gmax', 'enamorus-therian']}\n",
      "{'type_name': 'unknown', 'double_damage_from': [], 'double_damage_to': [], 'half_damage_from': [], 'half_damage_to': [], 'no_damage_from': [], 'no_damage_to': [], 'pokemon_in_type': []}\n",
      "{'type_name': 'shadow', 'double_damage_from': [], 'double_damage_to': [], 'half_damage_from': [], 'half_damage_to': [], 'no_damage_from': [], 'no_damage_to': [], 'pokemon_in_type': []}\n"
     ]
    }
   ],
   "source": [
    "url = 'https://pokeapi.co/api/v2/type/'\n",
    "\n",
    "response = requests.get(url).json()['results']\n",
    "\n",
    "for types in response: \n",
    "    type_dict = {'type_name': types['name']}\n",
    "    type_response = requests.get(types['url']).json()\n",
    "    type_dict.update({'double_damage_from':[i['name'] for i in type_response['damage_relations']['double_damage_from']]})\n",
    "    type_dict.update({'double_damage_to': [i['name'] for i in type_response['damage_relations']['double_damage_to']]})\n",
    "    type_dict.update({'half_damage_from': [i['name'] for i in type_response['damage_relations']['half_damage_from']]})\n",
    "    type_dict.update({'half_damage_to': [i['name'] for i in type_response['damage_relations']['half_damage_to']]})\n",
    "    type_dict.update({'no_damage_from': [i['name'] for i in type_response['damage_relations']['no_damage_from']]})\n",
    "    type_dict.update({'no_damage_to': [i['name'] for i in type_response['damage_relations']['no_damage_to']]})\n",
    "    type_dict.update({'pokemon_in_type': [i['pokemon']['name'] for i in type_response['pokemon']]})\n",
    "    print(type_dict)\n",
    "    \n",
    "    \n",
    "    "
   ]
  },
  {
   "cell_type": "markdown",
   "id": "2c26a5ba",
   "metadata": {},
   "source": [
    "## Pokemon Types DB\n",
    "1. Type name \n",
    "2. Pokemon in type \n",
    "3. Effectiveness receiving\n",
    "4. Effictive against"
   ]
  },
  {
   "cell_type": "code",
   "execution_count": 31,
   "id": "0788163a",
   "metadata": {},
   "outputs": [
    {
     "name": "stdout",
     "output_type": "stream",
     "text": [
      "{'key_0': 0, 'key_1': 2, 'key_2': 4, 'key_3': 6, 'key_4': 8}\n"
     ]
    }
   ],
   "source": [
    "my_dict = {}\n",
    "\n",
    "# Your for loop\n",
    "for i in range(5):\n",
    "    key = f'key_{i}'\n",
    "    value = i * 2\n",
    "\n",
    "    # Append values to the dictionary\n",
    "    my_dict.update({key: value})\n",
    "\n",
    "# Display the final dictionary\n",
    "print(my_dict)"
   ]
  },
  {
   "cell_type": "code",
   "execution_count": 65,
   "id": "ef093484",
   "metadata": {},
   "outputs": [],
   "source": [
    "url_type = 'https://pokeapi.co/api/v2/type/3/'\n",
    "\n",
    "type_response = requests.get(url_type).json()"
   ]
  },
  {
   "cell_type": "code",
   "execution_count": 36,
   "id": "eaad4fb6",
   "metadata": {},
   "outputs": [
    {
     "data": {
      "text/plain": [
       "dict_keys(['damage_relations', 'game_indices', 'generation', 'id', 'move_damage_class', 'moves', 'name', 'names', 'past_damage_relations', 'pokemon'])"
      ]
     },
     "execution_count": 36,
     "metadata": {},
     "output_type": "execute_result"
    }
   ],
   "source": [
    "type_response.keys()"
   ]
  },
  {
   "cell_type": "code",
   "execution_count": 78,
   "id": "09b7e995",
   "metadata": {},
   "outputs": [],
   "source": [
    "pokemon_list = [i['pokemon']['name'] for i in type_response['pokemon']]"
   ]
  }
 ],
 "metadata": {
  "kernelspec": {
   "display_name": "Python 3 (ipykernel)",
   "language": "python",
   "name": "python3"
  },
  "language_info": {
   "codemirror_mode": {
    "name": "ipython",
    "version": 3
   },
   "file_extension": ".py",
   "mimetype": "text/x-python",
   "name": "python",
   "nbconvert_exporter": "python",
   "pygments_lexer": "ipython3",
   "version": "3.9.12"
  }
 },
 "nbformat": 4,
 "nbformat_minor": 5
}
