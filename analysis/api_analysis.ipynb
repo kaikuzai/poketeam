{
 "cells": [
  {
   "cell_type": "markdown",
   "id": "9a1b7971",
   "metadata": {},
   "source": [
    "## Analysis to be done API \n",
    "1. Get pokemon \n",
    "2. Get evolution chain\n",
    "3. Get pokemon image"
   ]
  },
  {
   "cell_type": "code",
   "execution_count": 1,
   "id": "407ae5cb",
   "metadata": {},
   "outputs": [],
   "source": [
    "import requests\n",
    "\n",
    "base_url = 'https://pokeapi.co/api/v2/'\n",
    "pokemon = 'pokemon/'\n",
    "params = {'limit':5}\n",
    "generation_1 = 151"
   ]
  },
  {
   "cell_type": "code",
   "execution_count": 2,
   "id": "30ff24af",
   "metadata": {},
   "outputs": [],
   "source": [
    "data = requests.get(base_url+ pokemon + f'?limit=1').json()['results']"
   ]
  },
  {
   "cell_type": "code",
   "execution_count": 3,
   "id": "93c8ada4",
   "metadata": {},
   "outputs": [
    {
     "data": {
      "text/plain": [
       "[{'name': 'bulbasaur', 'url': 'https://pokeapi.co/api/v2/pokemon/1/'}]"
      ]
     },
     "execution_count": 3,
     "metadata": {},
     "output_type": "execute_result"
    }
   ],
   "source": [
    "data"
   ]
  },
  {
   "cell_type": "code",
   "execution_count": 4,
   "id": "7935aaca",
   "metadata": {},
   "outputs": [],
   "source": [
    "bulba_data = requests.get(data[0]['url']).json()"
   ]
  },
  {
   "cell_type": "code",
   "execution_count": 47,
   "id": "603c4e72",
   "metadata": {},
   "outputs": [
    {
     "data": {
      "text/plain": [
       "'https://raw.githubusercontent.com/PokeAPI/sprites/master/sprites/pokemon/other/official-artwork/1.png'"
      ]
     },
     "execution_count": 47,
     "metadata": {},
     "output_type": "execute_result"
    }
   ],
   "source": [
    "bulba_data['sprites']['other']['official-artwork']['front_default']"
   ]
  },
  {
   "cell_type": "code",
   "execution_count": 56,
   "id": "a1393601",
   "metadata": {
    "collapsed": true
   },
   "outputs": [
    {
     "name": "stdout",
     "output_type": "stream",
     "text": [
      "dict_keys(['abilities', 'base_experience', 'forms', 'game_indices', 'height', 'held_items', 'id', 'is_default', 'location_area_encounters', 'moves', 'name', 'order', 'past_abilities', 'past_types', 'species', 'sprites', 'stats', 'types', 'weight'])\n",
      "1 bulbasaur ['overgrow', 'chlorophyll'] ['grass', 'poison'] https://raw.githubusercontent.com/PokeAPI/sprites/master/sprites/pokemon/other/official-artwork/1.png\n"
     ]
    }
   ],
   "source": [
    "for index in data:\n",
    "    pokemon_url = index['url']\n",
    "    pokemon_data = requests.get(pokemon_url).json()\n",
    "    print(pokemon_data.keys())\n",
    "    pokemon_id = pokemon_data['id']\n",
    "    pokemon_name = pokemon_data['name']\n",
    "    pokemon_abilities = [listed_abilities['ability']['name']for listed_abilities in pokemon_data['abilities']]\n",
    "    pokemon_types = [listed_types['type']['name'] for listed_types in pokemon_data['types']]\n",
    "    pokemon_sprite = pokemon_data['sprites']['other']['official-artwork']['front_default']\n",
    "    \n",
    "    print(pokemon_id, pokemon_name, pokemon_abilities, pokemon_types, pokemon_sprite)"
   ]
  },
  {
   "cell_type": "code",
   "execution_count": 6,
   "id": "804b7305",
   "metadata": {},
   "outputs": [],
   "source": [
    "# Import requests \n",
    "\n",
    "import requests\n",
    "\n",
    "# Url settings \n",
    "\n",
    "base_url = 'https://pokeapi.co/api/v2/'\n",
    "pokemon = 'pokemon/'\n",
    "generation_1 = 151\n",
    "\n",
    "# Get first generation pokemons \n",
    "\n",
    "def get_pokemon(endpoint):\n",
    "    pokemon_fetch_data = requests.get(endpoint).json()['results']\n",
    "    \n",
    "    for pokemon_index in pokemon_fetch_data:\n",
    "        pokemon_url = pokemon_index['url']\n",
    "        pokemon_data = requests.get(pokemon_url).json()\n",
    "        pokemon_id = pokemon_data['id']\n",
    "        pokemon_name = pokemon_data['name']\n",
    "        pokemon_abilities = [listed_abilities['ability']['name']for listed_abilities in pokemon_data['abilities']]\n",
    "        pokemon_types = [listed_types['type']['name'] for listed_types in pokemon_data['types']]\n",
    "        pokemon_sprite = pokemon_data['sprites']['other']['official-artwork']['front_default']\n",
    "        \n",
    "        return(pokemon_id, pokemon_name, pokemon_abilities, pokemon_types, pokemon_sprite)\n",
    "        \n",
    "        \n",
    "    \n",
    "    \n",
    "    \n"
   ]
  },
  {
   "cell_type": "markdown",
   "id": "3444198b",
   "metadata": {},
   "source": [
    "## Analysis to be done BACKEND \n",
    "1. List of all the generations\n",
    "2. Which pokemons belong to each generation \n",
    "3. Pokmeon table: id, name, type, abilities, moves, evolution_chain, image\n",
    "4. Database design"
   ]
  },
  {
   "cell_type": "markdown",
   "id": "2d2176c5",
   "metadata": {},
   "source": [
    "## Analysis to be done FRONTEND \n",
    "1. connect with backend\n",
    "2. API request images"
   ]
  }
 ],
 "metadata": {
  "kernelspec": {
   "display_name": "Python 3 (ipykernel)",
   "language": "python",
   "name": "python3"
  },
  "language_info": {
   "codemirror_mode": {
    "name": "ipython",
    "version": 3
   },
   "file_extension": ".py",
   "mimetype": "text/x-python",
   "name": "python",
   "nbconvert_exporter": "python",
   "pygments_lexer": "ipython3",
   "version": "3.9.12"
  }
 },
 "nbformat": 4,
 "nbformat_minor": 5
}
